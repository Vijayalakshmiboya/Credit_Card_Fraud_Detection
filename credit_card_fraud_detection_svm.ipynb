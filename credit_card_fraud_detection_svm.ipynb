{
  "nbformat": 4,
  "nbformat_minor": 0,
  "metadata": {
    "colab": {
      "provenance": [],
      "authorship_tag": "ABX9TyPm8u4H6NslmeZfoZ9PoWJh",
      "include_colab_link": true
    },
    "kernelspec": {
      "name": "python3",
      "display_name": "Python 3"
    },
    "language_info": {
      "name": "python"
    }
  },
  "cells": [
    {
      "cell_type": "markdown",
      "metadata": {
        "id": "view-in-github",
        "colab_type": "text"
      },
      "source": [
        "<a href=\"https://colab.research.google.com/github/Vijayalakshmiboya/Credit_Card_Fraud_Detection/blob/main/credit_card_fraud_detection_svm.ipynb\" target=\"_parent\"><img src=\"https://colab.research.google.com/assets/colab-badge.svg\" alt=\"Open In Colab\"/></a>"
      ]
    },
    {
      "cell_type": "code",
      "execution_count": 1,
      "metadata": {
        "id": "2sRawU6Pqedx",
        "colab": {
          "base_uri": "https://localhost:8080/"
        },
        "outputId": "9bf9488c-c5c3-438e-95f2-5f0b2f2d6a43"
      },
      "outputs": [
        {
          "output_type": "stream",
          "name": "stdout",
          "text": [
            "Load Dataset & Preprocessing completed...!\n"
          ]
        }
      ],
      "source": [
        "# Step 1: Import Libraries\n",
        "import pandas as pd\n",
        "import numpy as np\n",
        "from sklearn.model_selection import train_test_split\n",
        "from sklearn.preprocessing import StandardScaler\n",
        "from imblearn.over_sampling import SMOTE\n",
        "\n",
        "# Step 2: Load Dataset\n",
        "data = pd.read_csv(\"/creditcard.csv\")\n",
        "\n",
        "# Step 3: Handle Missing Values\n",
        "# Drop rows where 'Class' is NaN\n",
        "data = data.dropna(subset=[\"Class\"])\n",
        "\n",
        "# Fill NaN in features with 0 (or you can use mean/median)\n",
        "data = data.fillna(0)\n",
        "\n",
        "# Step 4: Features and Target\n",
        "X = data.drop(\"Class\", axis=1)\n",
        "y = data[\"Class\"]\n",
        "\n",
        "# Step 5: Train-Test Split\n",
        "X_train, X_test, y_train, y_test = train_test_split(\n",
        "    X, y, test_size=0.2, random_state=42, stratify=y\n",
        ")\n",
        "\n",
        "# Step 6: Balance Training Data with SMOTE\n",
        "smote = SMOTE(random_state=42)\n",
        "X_train, y_train = smote.fit_resample(X_train, y_train)\n",
        "\n",
        "# Step 7: Scale Features\n",
        "scaler = StandardScaler()\n",
        "X_train = scaler.fit_transform(X_train)\n",
        "X_test = scaler.transform(X_test)\n",
        "print(\"Load Dataset & Preprocessing completed...!\")\n",
        "\n"
      ]
    },
    {
      "cell_type": "code",
      "source": [
        "# Case 1: Plain SVM (Default Parameters)\n",
        "from sklearn.svm import SVC\n",
        "from sklearn.metrics import confusion_matrix, classification_report\n",
        "\n",
        "# Initialize model\n",
        "model_plain = SVC()\n",
        "\n",
        "# Train model\n",
        "model_plain.fit(X_train, y_train)\n",
        "\n",
        "# Predictions\n",
        "y_pred_plain = model_plain.predict(X_test)\n",
        "\n",
        "# Evaluation\n",
        "print(\"\\nConfusion Matrix (Plain SVM):\\n\", confusion_matrix(y_test, y_pred_plain))\n",
        "print(\"\\nClassification Report (Plain SVM):\\n\", classification_report(y_test, y_pred_plain))\n"
      ],
      "metadata": {
        "id": "tVnscCwMsLMh",
        "colab": {
          "base_uri": "https://localhost:8080/"
        },
        "outputId": "244ad98c-e57f-4e6a-8a27-d0d77d95f9ce"
      },
      "execution_count": 2,
      "outputs": [
        {
          "output_type": "stream",
          "name": "stdout",
          "text": [
            "\n",
            "Confusion Matrix (Plain SVM):\n",
            " [[1590    0]\n",
            " [   1    4]]\n",
            "\n",
            "Classification Report (Plain SVM):\n",
            "               precision    recall  f1-score   support\n",
            "\n",
            "         0.0       1.00      1.00      1.00      1590\n",
            "         1.0       1.00      0.80      0.89         5\n",
            "\n",
            "    accuracy                           1.00      1595\n",
            "   macro avg       1.00      0.90      0.94      1595\n",
            "weighted avg       1.00      1.00      1.00      1595\n",
            "\n"
          ]
        }
      ]
    },
    {
      "cell_type": "code",
      "source": [
        "# Use smaller sample for tuning (10,000 rows)\n",
        "from sklearn.model_selection import GridSearchCV\n",
        "\n",
        "X_sample, _, y_sample, _ = train_test_split(\n",
        "    X_train, y_train, train_size=10000, stratify=y_train, random_state=42\n",
        ")\n",
        "\n",
        "param_grid = {\n",
        "    \"C\": [0.1, 1, 10],\n",
        "    \"gamma\": [0.1, 0.01],\n",
        "    \"kernel\": [\"linear\", \"rbf\"]\n",
        "}\n",
        "\n",
        "grid = GridSearchCV(SVC(), param_grid, refit=True, cv=3, verbose=1, n_jobs=-1)\n",
        "grid.fit(X_sample, y_sample)\n",
        "\n",
        "print(\"\\n--- GridSearchCV SVM ---\")\n",
        "print(\"Best Parameters:\", grid.best_params_)\n",
        "\n",
        "# Retrain best model on full dataset\n",
        "best_grid_svm = grid.best_estimator_\n",
        "best_grid_svm.fit(X_train, y_train)\n",
        "y_pred_grid = best_grid_svm.predict(X_test)\n",
        "\n",
        "print(\"Confusion Matrix:\\n\", confusion_matrix(y_test, y_pred_grid))\n",
        "print(\"\\nClassification Report:\\n\", classification_report(y_test, y_pred_grid))\n"
      ],
      "metadata": {
        "id": "b96IBvV5sXez",
        "colab": {
          "base_uri": "https://localhost:8080/"
        },
        "outputId": "675cef90-d6cb-4db4-920f-6eda59d280fc"
      },
      "execution_count": 5,
      "outputs": [
        {
          "output_type": "stream",
          "name": "stdout",
          "text": [
            "Fitting 3 folds for each of 12 candidates, totalling 36 fits\n",
            "\n",
            "--- GridSearchCV SVM ---\n",
            "Best Parameters: {'C': 0.1, 'gamma': 0.1, 'kernel': 'rbf'}\n",
            "Confusion Matrix:\n",
            " [[1590    0]\n",
            " [   1    4]]\n",
            "\n",
            "Classification Report:\n",
            "               precision    recall  f1-score   support\n",
            "\n",
            "         0.0       1.00      1.00      1.00      1590\n",
            "         1.0       1.00      0.80      0.89         5\n",
            "\n",
            "    accuracy                           1.00      1595\n",
            "   macro avg       1.00      0.90      0.94      1595\n",
            "weighted avg       1.00      1.00      1.00      1595\n",
            "\n"
          ]
        }
      ]
    },
    {
      "cell_type": "code",
      "source": [
        "# Case 3: RandomizedSearchCV SVM\n",
        "from sklearn.model_selection import RandomizedSearchCV\n",
        "import numpy as np\n",
        "\n",
        "param_dist = {\n",
        "    \"C\": np.logspace(-3, 3, 10),\n",
        "    \"gamma\": np.logspace(-3, 3, 10),\n",
        "    \"kernel\": [\"linear\", \"rbf\"]\n",
        "}\n",
        "\n",
        "random_search = RandomizedSearchCV(\n",
        "    SVC(),\n",
        "    param_distributions=param_dist,\n",
        "    n_iter=10,\n",
        "    cv=3,\n",
        "    verbose=1,\n",
        "    n_jobs=-1,\n",
        "    random_state=42\n",
        ")\n",
        "\n",
        "random_search.fit(X_sample, y_sample)\n",
        "\n",
        "print(\"\\n--- RandomizedSearchCV SVM ---\")\n",
        "print(\"Best Parameters:\", random_search.best_params_)\n",
        "\n",
        "# Retrain best model on full dataset\n",
        "best_random_svm = random_search.best_estimator_\n",
        "best_random_svm.fit(X_train, y_train)\n",
        "y_pred_random = best_random_svm.predict(X_test)\n",
        "\n",
        "print(\"Confusion Matrix:\\n\", confusion_matrix(y_test, y_pred_random))\n",
        "print(\"\\nClassification Report:\\n\", classification_report(y_test, y_pred_random))"
      ],
      "metadata": {
        "id": "3scc6EdsyPl5",
        "colab": {
          "base_uri": "https://localhost:8080/"
        },
        "outputId": "3a7e6c75-77d3-48b8-c3a4-80b4aa13f50e"
      },
      "execution_count": 4,
      "outputs": [
        {
          "output_type": "stream",
          "name": "stdout",
          "text": [
            "Fitting 3 folds for each of 10 candidates, totalling 30 fits\n",
            "\n",
            "--- RandomizedSearchCV SVM ---\n",
            "Best Parameters: {'kernel': 'linear', 'gamma': np.float64(1000.0), 'C': np.float64(46.41588833612773)}\n",
            "Confusion Matrix:\n",
            " [[1589    1]\n",
            " [   0    5]]\n",
            "\n",
            "Classification Report:\n",
            "               precision    recall  f1-score   support\n",
            "\n",
            "         0.0       1.00      1.00      1.00      1590\n",
            "         1.0       0.83      1.00      0.91         5\n",
            "\n",
            "    accuracy                           1.00      1595\n",
            "   macro avg       0.92      1.00      0.95      1595\n",
            "weighted avg       1.00      1.00      1.00      1595\n",
            "\n"
          ]
        }
      ]
    },
    {
      "cell_type": "code",
      "source": [
        "#Comparing 3 methods\n",
        "import pandas as pd\n",
        "from sklearn.metrics import accuracy_score, precision_score, recall_score, f1_score\n",
        "import matplotlib.pyplot as plt\n",
        "\n",
        "# y_pred_plain, y_pred_grid, y_pred_random\n",
        "# y_test = actual labels\n",
        "\n",
        "# Step 6: Collect results\n",
        "results = {\n",
        "    \"Plain SVM\": {\n",
        "        \"Accuracy\": accuracy_score(y_test, y_pred_plain),\n",
        "        \"Precision\": precision_score(y_test, y_pred_plain, pos_label=1),\n",
        "        \"Recall\": recall_score(y_test, y_pred_plain, pos_label=1),\n",
        "        \"F1-Score\": f1_score(y_test, y_pred_plain, pos_label=1)\n",
        "    },\n",
        "    \"GridSearch SVM\": {\n",
        "        \"Accuracy\": accuracy_score(y_test, y_pred_grid),\n",
        "        \"Precision\": precision_score(y_test, y_pred_grid, pos_label=1),\n",
        "        \"Recall\": recall_score(y_test, y_pred_grid, pos_label=1),\n",
        "        \"F1-Score\": f1_score(y_test, y_pred_grid, pos_label=1)\n",
        "    },\n",
        "    \"RandomSearch SVM\": {\n",
        "        \"Accuracy\": accuracy_score(y_test, y_pred_random),\n",
        "        \"Precision\": precision_score(y_test, y_pred_random, pos_label=1),\n",
        "        \"Recall\": recall_score(y_test, y_pred_random, pos_label=1),\n",
        "        \"F1-Score\": f1_score(y_test, y_pred_random, pos_label=1)\n",
        "    }\n",
        "}\n",
        "\n",
        "\n",
        "# Convert to DataFrame for easy display\n",
        "df_results = pd.DataFrame(results).T\n",
        "print(\"\\n--- Comparative Results ---\\n\")\n",
        "print(df_results)\n",
        "\n",
        "# Step 7: Simple Bar Chart\n",
        "df_results.plot(kind=\"bar\", figsize=(10, 6))\n",
        "plt.title(\"SVM Model Comparison (Beginner Friendly)\")\n",
        "plt.ylabel(\"Score (0 to 1)\")\n",
        "plt.ylim(0, 1.1)  # Scores are between 0 and 1\n",
        "plt.xticks(rotation=0)\n",
        "plt.legend(loc=\"lower right\")\n",
        "plt.show()\n",
        "\n",
        "\n",
        "# This model did improve with RandomizedSearchCV in terms of catching all fraud cases, which is usually more important in fraud detection.\n",
        "\n",
        "#Accuracy stays the same because it’s dominated by the large number of normal transactions."
      ],
      "metadata": {
        "colab": {
          "base_uri": "https://localhost:8080/",
          "height": 666
        },
        "id": "UizMPKzM6J9W",
        "outputId": "0ebfa8a9-b275-4493-c8da-c133a67bd278"
      },
      "execution_count": 11,
      "outputs": [
        {
          "output_type": "stream",
          "name": "stdout",
          "text": [
            "\n",
            "--- Comparative Results ---\n",
            "\n",
            "                  Accuracy  Precision  Recall  F1-Score\n",
            "Plain SVM         0.999373   1.000000     0.8  0.888889\n",
            "GridSearch SVM    0.999373   1.000000     0.8  0.888889\n",
            "RandomSearch SVM  0.999373   0.833333     1.0  0.909091\n"
          ]
        },
        {
          "output_type": "display_data",
          "data": {
            "text/plain": [
              "<Figure size 1000x600 with 1 Axes>"
            ],
            "image/png": "[encoded data removed]"
          },
          "metadata": {}
        }
      ]
    }
  ]
}